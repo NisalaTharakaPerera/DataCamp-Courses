{
 "cells": [
  {
   "cell_type": "markdown",
   "id": "504d188e",
   "metadata": {},
   "source": [
    "## Your first numpy arrays"
   ]
  },
  {
   "cell_type": "code",
   "execution_count": 6,
   "id": "f6a67399",
   "metadata": {},
   "outputs": [],
   "source": [
    "import numpy as np\n",
    "import matplotlib.pyplot as plt"
   ]
  },
  {
   "cell_type": "code",
   "execution_count": 2,
   "id": "454c6f9b",
   "metadata": {},
   "outputs": [],
   "source": [
    "sudoku_list = [[0, 0, 4, 3, 0, 0, 2, 0, 9],\n",
    " [0, 0, 5, 0, 0, 9, 0, 0, 1],\n",
    " [0, 7, 0, 0, 6, 0, 0, 4, 3],\n",
    " [0, 0, 6, 0, 0, 2, 0, 8, 7],\n",
    " [1, 9, 0, 0, 0, 7, 4, 0, 0],\n",
    " [0, 5, 0, 0, 8, 3, 0, 0, 0],\n",
    " [6, 0, 0, 0, 0, 0, 1, 0, 5],\n",
    " [0, 0, 3, 5, 0, 8, 6, 9, 0],\n",
    " [0, 4, 2, 9, 1, 0, 3, 0, 0]]"
   ]
  },
  {
   "cell_type": "code",
   "execution_count": 3,
   "id": "fd23e1ea",
   "metadata": {},
   "outputs": [
    {
     "name": "stdout",
     "output_type": "stream",
     "text": [
      "<class 'numpy.ndarray'>\n"
     ]
    }
   ],
   "source": [
    "# Convert sudoku_list into an array\n",
    "sudoku_array = np.array(sudoku_list)\n",
    "\n",
    "# Print the type of sudoku_array \n",
    "print(type(sudoku_array))"
   ]
  },
  {
   "cell_type": "markdown",
   "id": "cdae212e",
   "metadata": {},
   "source": [
    "## Creating arrays from scratch"
   ]
  },
  {
   "cell_type": "markdown",
   "id": "375ba7f9",
   "metadata": {},
   "source": [
    "It can be helpful to know how to create quick NumPy arrays from scratch in order to test your code. For example, when you are doing math with large multi-dimensional arrays, it's nice to check whether the math works as expected on small test arrays before applying your code to the larger arrays. NumPy has many options for creating smaller synthetic arrays."
   ]
  },
  {
   "cell_type": "code",
   "execution_count": 4,
   "id": "fd30f63c",
   "metadata": {},
   "outputs": [
    {
     "name": "stdout",
     "output_type": "stream",
     "text": [
      "[[0. 0. 0. 0.]\n",
      " [0. 0. 0. 0.]]\n"
     ]
    }
   ],
   "source": [
    "# Create an array of zeros which has four columns and two rows\n",
    "zero_array = np.zeros((2,4))\n",
    "print(zero_array)"
   ]
  },
  {
   "cell_type": "code",
   "execution_count": 5,
   "id": "442d892b",
   "metadata": {},
   "outputs": [
    {
     "name": "stdout",
     "output_type": "stream",
     "text": [
      "[[0.5857394  0.50824948 0.37177844 0.11482986 0.50069331 0.94289978]\n",
      " [0.5928877  0.10908317 0.57030278 0.74855766 0.08166445 0.33186152]\n",
      " [0.10339694 0.95030613 0.50365888 0.67956991 0.43801566 0.42644003]]\n"
     ]
    }
   ],
   "source": [
    "# Create an array of random floats which has six columns and three rows\n",
    "random_array = np.random.random((3,6))\n",
    "print(random_array)"
   ]
  },
  {
   "cell_type": "markdown",
   "id": "32aabd6e",
   "metadata": {},
   "source": [
    "## A range array"
   ]
  },
  {
   "cell_type": "code",
   "execution_count": 7,
   "id": "46f2aaa7",
   "metadata": {},
   "outputs": [],
   "source": [
    "doubling_array = [1, 2, 4, 8, 16, 32, 64, 128, 256, 512]"
   ]
  },
  {
   "cell_type": "markdown",
   "id": "5bdd29fd",
   "metadata": {},
   "source": [
    "np.arange() has especially useful applications in graphing. Your task is to create a scatter plot with the values from doubling_array on the y-axis."
   ]
  },
  {
   "cell_type": "code",
   "execution_count": 8,
   "id": "15ed81c7",
   "metadata": {},
   "outputs": [],
   "source": [
    "# Create an array of integers from one to ten\n",
    "one_to_ten = np.arange(1,11)"
   ]
  },
  {
   "cell_type": "code",
   "execution_count": 9,
   "id": "d32de667",
   "metadata": {},
   "outputs": [
    {
     "data": {
      "image/png": "[encoded data removed]",
      "text/plain": [
       "<Figure size 640x480 with 1 Axes>"
      ]
     },
     "metadata": {},
     "output_type": "display_data"
    }
   ],
   "source": [
    "# Create your scatterplot\n",
    "plt.scatter(one_to_ten, doubling_array)\n",
    "plt.show()"
   ]
  },
  {
   "cell_type": "markdown",
   "id": "0a989648",
   "metadata": {},
   "source": [
    "## Array dimensionality"
   ]
  },
  {
   "cell_type": "code",
   "execution_count": 10,
   "id": "414bf9eb",
   "metadata": {},
   "outputs": [],
   "source": [
    "array_1_2D = np.array([[1,2],[5,7]])\n",
    "array_2_2D = np.array([[8,9],[5,7]])\n",
    "array_3_2D = np.array([[1,2],[5,7]])\n",
    "array_3D = np.array([array_1_2D, array_2_2D, array_3_2D])"
   ]
  },
  {
   "cell_type": "code",
   "execution_count": 11,
   "id": "58cdea23",
   "metadata": {},
   "outputs": [
    {
     "data": {
      "text/plain": [
       "numpy.ndarray"
      ]
     },
     "execution_count": 11,
     "metadata": {},
     "output_type": "execute_result"
    }
   ],
   "source": [
    "type(array_3D)"
   ]
  },
  {
   "cell_type": "markdown",
   "id": "b86cef37",
   "metadata": {},
   "source": [
    "## 3D array creation"
   ]
  },
  {
   "cell_type": "code",
   "execution_count": 12,
   "id": "e9fe36f6",
   "metadata": {},
   "outputs": [],
   "source": [
    "sudoku_game = np.load('sudoku_game.npy')\n",
    "sudoku_solution = np.load(\"sudoku_solution.npy\")\n",
    "\n",
    "# Create the game_and_solution 3D array\n",
    "game_and_solution = np.array([sudoku_game,sudoku_solution])"
   ]
  },
  {
   "cell_type": "code",
   "execution_count": 13,
   "id": "f1352477",
   "metadata": {},
   "outputs": [
    {
     "name": "stdout",
     "output_type": "stream",
     "text": [
      "[[[0 0 5 0 0 9 0 0 1]\n",
      "  [0 7 0 0 6 0 0 4 3]\n",
      "  [0 0 6 0 0 2 0 8 7]\n",
      "  [1 9 0 0 0 7 4 0 0]\n",
      "  [0 5 0 0 8 3 0 0 0]\n",
      "  [6 0 0 0 0 0 1 0 5]\n",
      "  [0 0 3 5 0 8 6 9 0]\n",
      "  [0 4 2 9 1 0 3 0 0]]\n",
      "\n",
      " [[3 2 5 8 4 9 7 6 1]\n",
      "  [9 7 1 2 6 5 8 4 3]\n",
      "  [4 3 6 1 9 2 5 8 7]\n",
      "  [1 9 8 6 5 7 4 3 2]\n",
      "  [2 5 7 4 8 3 9 1 6]\n",
      "  [6 8 9 7 3 4 1 2 5]\n",
      "  [7 1 3 5 2 8 6 9 4]\n",
      "  [5 4 2 9 1 6 3 7 8]]]\n"
     ]
    }
   ],
   "source": [
    "# Print game_and_solution\n",
    "print(game_and_solution) "
   ]
  },
  {
   "cell_type": "markdown",
   "id": "0a296500",
   "metadata": {},
   "source": [
    "## The fourth dimension"
   ]
  },
  {
   "cell_type": "code",
   "execution_count": 14,
   "id": "c66a1c9c",
   "metadata": {},
   "outputs": [
    {
     "name": "stdout",
     "output_type": "stream",
     "text": [
      "(2, 2, 8, 9)\n"
     ]
    }
   ],
   "source": [
    "# Create a second 3D array of another game and its solution \n",
    "new_game_and_solution = np.array([sudoku_game,sudoku_solution])\n",
    "\n",
    "# Create a 4D array of both game and solution 3D arrays\n",
    "games_and_solutions = np.array([game_and_solution, new_game_and_solution])\n",
    "\n",
    "# Print the shape of your 4D array\n",
    "print(games_and_solutions.shape)"
   ]
  },
  {
   "cell_type": "markdown",
   "id": "971845f6",
   "metadata": {},
   "source": [
    "The .shape of (2, 2, 8, 9) means that there are two sets of game/solution pairs. Within each game/solution pair, all arrays have eight rows and nine columns. That's exactly right! If there were ten game/solution pairs, the .shape would be (10, 2, 8, 9)."
   ]
  },
  {
   "cell_type": "markdown",
   "id": "a930512a",
   "metadata": {},
   "source": [
    "## Flattening and reshaping"
   ]
  },
  {
   "cell_type": "markdown",
   "id": "c763998d",
   "metadata": {},
   "source": [
    "You've learned to change not only array shape but also the number of dimensions that an array has. To test these skills, you'll change sudoku_game from a 2D array to a 1D array and back again. Can we trust NumPy to keep the array elements in the same order after being flattened and reshaped? Time to find out."
   ]
  },
  {
   "cell_type": "code",
   "execution_count": 16,
   "id": "8e35be5a",
   "metadata": {},
   "outputs": [
    {
     "name": "stdout",
     "output_type": "stream",
     "text": [
      "(72,)\n"
     ]
    }
   ],
   "source": [
    "# Flatten sudoku_game\n",
    "flattened_game = sudoku_game.flatten()\n",
    "\n",
    "# Print the shape of flattened_game\n",
    "print(flattened_game.shape)"
   ]
  },
  {
   "cell_type": "code",
   "execution_count": 17,
   "id": "f8bcd8bd",
   "metadata": {},
   "outputs": [
    {
     "name": "stdout",
     "output_type": "stream",
     "text": [
      "[[0 0 5 0 0 9 0 0 1]\n",
      " [0 7 0 0 6 0 0 4 3]\n",
      " [0 0 6 0 0 2 0 8 7]\n",
      " [1 9 0 0 0 7 4 0 0]\n",
      " [0 5 0 0 8 3 0 0 0]\n",
      " [6 0 0 0 0 0 1 0 5]\n",
      " [0 0 3 5 0 8 6 9 0]\n",
      " [0 4 2 9 1 0 3 0 0]]\n",
      "[[0 0 5 0 0 9 0 0 1]\n",
      " [0 7 0 0 6 0 0 4 3]\n",
      " [0 0 6 0 0 2 0 8 7]\n",
      " [1 9 0 0 0 7 4 0 0]\n",
      " [0 5 0 0 8 3 0 0 0]\n",
      " [6 0 0 0 0 0 1 0 5]\n",
      " [0 0 3 5 0 8 6 9 0]\n",
      " [0 4 2 9 1 0 3 0 0]]\n"
     ]
    }
   ],
   "source": [
    "# Reshape flattened_game back to a eight by nine array\n",
    "reshaped_game = flattened_game.reshape(8,9)\n",
    "\n",
    "# Print sudoku_game and reshaped_game\n",
    "print(sudoku_game)\n",
    "print(reshaped_game)"
   ]
  },
  {
   "cell_type": "markdown",
   "id": "7c38541e",
   "metadata": {},
   "source": [
    "Notice that .flatten() preserves the order of array elements—when the array is reshaped back to its original shape, the numbers are in the exact same places as they were before flattening."
   ]
  },
  {
   "cell_type": "code",
   "execution_count": null,
   "id": "4a598916",
   "metadata": {},
   "outputs": [],
   "source": []
  }
 ],
 "metadata": {
  "kernelspec": {
   "display_name": "Python 3 (ipykernel)",
   "language": "python",
   "name": "python3"
  },
  "language_info": {
   "codemirror_mode": {
    "name": "ipython",
    "version": 3
   },
   "file_extension": ".py",
   "mimetype": "text/x-python",
   "name": "python",
   "nbconvert_exporter": "python",
   "pygments_lexer": "ipython3",
   "version": "3.9.13"
  }
 },
 "nbformat": 4,
 "nbformat_minor": 5
}
