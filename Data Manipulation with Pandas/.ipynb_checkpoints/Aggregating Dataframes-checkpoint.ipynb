{
 "cells": [
  {
   "cell_type": "code",
   "execution_count": 1,
   "id": "3a2bb5f9",
   "metadata": {},
   "outputs": [],
   "source": [
    "import pandas as pd"
   ]
  },
  {
   "cell_type": "code",
   "execution_count": 3,
   "id": "64963e52",
   "metadata": {},
   "outputs": [],
   "source": [
    "homelessness = pd.read_csv('homelessness.csv')"
   ]
  },
  {
   "cell_type": "markdown",
   "id": "d120e80f",
   "metadata": {},
   "source": [
    "# Summary Statistics"
   ]
  },
  {
   "cell_type": "markdown",
   "id": "e9e10e3b",
   "metadata": {},
   "source": [
    "They summarize and tell you about your dataset"
   ]
  },
  {
   "cell_type": "code",
   "execution_count": 4,
   "id": "95f1d54f",
   "metadata": {},
   "outputs": [
    {
     "data": {
      "text/html": [
       "<div>\n",
       "<style scoped>\n",
       "    .dataframe tbody tr th:only-of-type {\n",
       "        vertical-align: middle;\n",
       "    }\n",
       "\n",
       "    .dataframe tbody tr th {\n",
       "        vertical-align: top;\n",
       "    }\n",
       "\n",
       "    .dataframe thead th {\n",
       "        text-align: right;\n",
       "    }\n",
       "</style>\n",
       "<table border=\"1\" class=\"dataframe\">\n",
       "  <thead>\n",
       "    <tr style=\"text-align: right;\">\n",
       "      <th></th>\n",
       "      <th>Unnamed: 0</th>\n",
       "      <th>region</th>\n",
       "      <th>state</th>\n",
       "      <th>individuals</th>\n",
       "      <th>family_members</th>\n",
       "      <th>state_pop</th>\n",
       "    </tr>\n",
       "  </thead>\n",
       "  <tbody>\n",
       "    <tr>\n",
       "      <th>0</th>\n",
       "      <td>0</td>\n",
       "      <td>East South Central</td>\n",
       "      <td>Alabama</td>\n",
       "      <td>2570.0</td>\n",
       "      <td>864.0</td>\n",
       "      <td>4887681</td>\n",
       "    </tr>\n",
       "    <tr>\n",
       "      <th>1</th>\n",
       "      <td>1</td>\n",
       "      <td>Pacific</td>\n",
       "      <td>Alaska</td>\n",
       "      <td>1434.0</td>\n",
       "      <td>582.0</td>\n",
       "      <td>735139</td>\n",
       "    </tr>\n",
       "    <tr>\n",
       "      <th>2</th>\n",
       "      <td>2</td>\n",
       "      <td>Mountain</td>\n",
       "      <td>Arizona</td>\n",
       "      <td>7259.0</td>\n",
       "      <td>2606.0</td>\n",
       "      <td>7158024</td>\n",
       "    </tr>\n",
       "    <tr>\n",
       "      <th>3</th>\n",
       "      <td>3</td>\n",
       "      <td>West South Central</td>\n",
       "      <td>Arkansas</td>\n",
       "      <td>2280.0</td>\n",
       "      <td>432.0</td>\n",
       "      <td>3009733</td>\n",
       "    </tr>\n",
       "    <tr>\n",
       "      <th>4</th>\n",
       "      <td>4</td>\n",
       "      <td>Pacific</td>\n",
       "      <td>California</td>\n",
       "      <td>109008.0</td>\n",
       "      <td>20964.0</td>\n",
       "      <td>39461588</td>\n",
       "    </tr>\n",
       "  </tbody>\n",
       "</table>\n",
       "</div>"
      ],
      "text/plain": [
       "   Unnamed: 0              region       state  individuals  family_members  \\\n",
       "0           0  East South Central     Alabama       2570.0           864.0   \n",
       "1           1             Pacific      Alaska       1434.0           582.0   \n",
       "2           2            Mountain     Arizona       7259.0          2606.0   \n",
       "3           3  West South Central    Arkansas       2280.0           432.0   \n",
       "4           4             Pacific  California     109008.0         20964.0   \n",
       "\n",
       "   state_pop  \n",
       "0    4887681  \n",
       "1     735139  \n",
       "2    7158024  \n",
       "3    3009733  \n",
       "4   39461588  "
      ]
     },
     "execution_count": 4,
     "metadata": {},
     "output_type": "execute_result"
    }
   ],
   "source": [
    "homelessness.head(5)"
   ]
  },
  {
   "cell_type": "markdown",
   "id": "b216c7c9",
   "metadata": {},
   "source": [
    "## Mean"
   ]
  },
  {
   "cell_type": "code",
   "execution_count": 5,
   "id": "56f2864f",
   "metadata": {},
   "outputs": [
    {
     "data": {
      "text/plain": [
       "7225.78431372549"
      ]
     },
     "execution_count": 5,
     "metadata": {},
     "output_type": "execute_result"
    }
   ],
   "source": [
    "homelessness[\"individuals\"].mean()"
   ]
  },
  {
   "cell_type": "markdown",
   "id": "38819d34",
   "metadata": {},
   "source": [
    "Similarly there are median(), mode(), min(), max(), var(), std(), sum(), quantile(),"
   ]
  },
  {
   "cell_type": "markdown",
   "id": "7523d972",
   "metadata": {},
   "source": [
    "## Summarizing Dates"
   ]
  },
  {
   "cell_type": "markdown",
   "id": "c1284613",
   "metadata": {},
   "source": [
    "You can use .min() for date columns"
   ]
  },
  {
   "cell_type": "markdown",
   "id": "53d98421",
   "metadata": {},
   "source": [
    "## .agg() method"
   ]
  },
  {
   "cell_type": "markdown",
   "id": "bf281c16",
   "metadata": {},
   "source": [
    "Allows you to compute custom summary statistics"
   ]
  },
  {
   "cell_type": "code",
   "execution_count": 6,
   "id": "adde2553",
   "metadata": {},
   "outputs": [],
   "source": [
    "def pct30(column):\n",
    "    return column.quantile(0.3)"
   ]
  },
  {
   "cell_type": "markdown",
   "id": "d321cbbf",
   "metadata": {},
   "source": [
    "The following gives the 30th percentile of the homeless individuals"
   ]
  },
  {
   "cell_type": "code",
   "execution_count": 7,
   "id": "51e02c38",
   "metadata": {},
   "outputs": [
    {
     "data": {
      "text/plain": [
       "1745.0"
      ]
     },
     "execution_count": 7,
     "metadata": {},
     "output_type": "execute_result"
    }
   ],
   "source": [
    "homelessness['individuals'].agg(pct30)"
   ]
  },
  {
   "cell_type": "markdown",
   "id": "8d396a3d",
   "metadata": {},
   "source": [
    "agg can also be used in more than one column"
   ]
  },
  {
   "cell_type": "code",
   "execution_count": 8,
   "id": "56700340",
   "metadata": {},
   "outputs": [
    {
     "data": {
      "text/plain": [
       "individuals       1745.0\n",
       "family_members     676.0\n",
       "dtype: float64"
      ]
     },
     "execution_count": 8,
     "metadata": {},
     "output_type": "execute_result"
    }
   ],
   "source": [
    "homelessness[['individuals','family_members']].agg(pct30)"
   ]
  },
  {
   "cell_type": "markdown",
   "id": "43196a7f",
   "metadata": {},
   "source": [
    "The following is the function for the 40th percentile"
   ]
  },
  {
   "cell_type": "code",
   "execution_count": 9,
   "id": "ce549a07",
   "metadata": {},
   "outputs": [],
   "source": [
    "def pct40(column):\n",
    "    return column.quantile(0.4)"
   ]
  },
  {
   "cell_type": "code",
   "execution_count": 10,
   "id": "b83c68eb",
   "metadata": {},
   "outputs": [
    {
     "data": {
      "text/plain": [
       "pct30    1745.0\n",
       "pct40    2540.0\n",
       "Name: individuals, dtype: float64"
      ]
     },
     "execution_count": 10,
     "metadata": {},
     "output_type": "execute_result"
    }
   ],
   "source": [
    "homelessness['individuals'].agg([pct30,pct40])"
   ]
  },
  {
   "cell_type": "markdown",
   "id": "ae965605",
   "metadata": {},
   "source": [
    "## Cumulative Sum"
   ]
  },
  {
   "cell_type": "code",
   "execution_count": 11,
   "id": "49ef3dcb",
   "metadata": {
    "scrolled": true
   },
   "outputs": [
    {
     "data": {
      "text/plain": [
       "0       2570.0\n",
       "1       4004.0\n",
       "2      11263.0\n",
       "3      13543.0\n",
       "4     122551.0\n",
       "5     130158.0\n",
       "6     132438.0\n",
       "7     133146.0\n",
       "8     136916.0\n",
       "9     158359.0\n",
       "10    165302.0\n",
       "11    169433.0\n",
       "12    170730.0\n",
       "13    177482.0\n",
       "14    181258.0\n",
       "15    182969.0\n",
       "16    184412.0\n",
       "17    187147.0\n",
       "18    189687.0\n",
       "19    191137.0\n",
       "20    196051.0\n",
       "21    202862.0\n",
       "22    208071.0\n",
       "23    212064.0\n",
       "24    213088.0\n",
       "25    216864.0\n",
       "26    217847.0\n",
       "27    219592.0\n",
       "28    226650.0\n",
       "29    227485.0\n",
       "30    233533.0\n",
       "31    235482.0\n",
       "32    275309.0\n",
       "33    281760.0\n",
       "34    282227.0\n",
       "35    289156.0\n",
       "36    291979.0\n",
       "37    303118.0\n",
       "38    311281.0\n",
       "39    312028.0\n",
       "40    315110.0\n",
       "41    315946.0\n",
       "42    322085.0\n",
       "43    341284.0\n",
       "44    343188.0\n",
       "45    343968.0\n",
       "46    347896.0\n",
       "47    364320.0\n",
       "48    365341.0\n",
       "49    368081.0\n",
       "50    368515.0\n",
       "Name: individuals, dtype: float64"
      ]
     },
     "execution_count": 11,
     "metadata": {},
     "output_type": "execute_result"
    }
   ],
   "source": [
    "homelessness['individuals'].cumsum()"
   ]
  },
  {
   "cell_type": "markdown",
   "id": "349d429b",
   "metadata": {},
   "source": [
    "This returns a number for each row of the dataframe"
   ]
  },
  {
   "cell_type": "markdown",
   "id": "96dcff59",
   "metadata": {},
   "source": [
    "Pandas also has methods for other cumulative statistics such as cummax, cummin, cumprod"
   ]
  },
  {
   "cell_type": "code",
   "execution_count": null,
   "id": "3e956c89",
   "metadata": {},
   "outputs": [],
   "source": []
  }
 ],
 "metadata": {
  "kernelspec": {
   "display_name": "Python 3 (ipykernel)",
   "language": "python",
   "name": "python3"
  },
  "language_info": {
   "codemirror_mode": {
    "name": "ipython",
    "version": 3
   },
   "file_extension": ".py",
   "mimetype": "text/x-python",
   "name": "python",
   "nbconvert_exporter": "python",
   "pygments_lexer": "ipython3",
   "version": "3.9.13"
  }
 },
 "nbformat": 4,
 "nbformat_minor": 5
}
