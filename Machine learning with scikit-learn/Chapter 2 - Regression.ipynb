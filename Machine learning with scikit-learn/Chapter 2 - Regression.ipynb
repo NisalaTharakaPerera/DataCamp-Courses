{
 "cells": [
  {
   "cell_type": "markdown",
   "id": "87805f8f",
   "metadata": {},
   "source": [
    "## Predicting blood glucose levels"
   ]
  },
  {
   "cell_type": "code",
   "execution_count": 1,
   "id": "41bcc4ff",
   "metadata": {},
   "outputs": [
    {
     "name": "stdout",
     "output_type": "stream",
     "text": [
      "   pregnancies  glucose  diastolic  triceps  insulin   bmi    dpf  age  \\\n",
      "0            6      148         72       35        0  33.6  0.627   50   \n",
      "1            1       85         66       29        0  26.6  0.351   31   \n",
      "2            8      183         64        0        0  23.3  0.672   32   \n",
      "3            1       89         66       23       94  28.1  0.167   21   \n",
      "4            0      137         40       35      168  43.1  2.288   33   \n",
      "\n",
      "   diabetes  \n",
      "0         1  \n",
      "1         0  \n",
      "2         1  \n",
      "3         0  \n",
      "4         1  \n"
     ]
    }
   ],
   "source": [
    "import pandas as pd\n",
    "diabetes_df = pd.read_csv(\"diabetes_clean.csv\")\n",
    "print(diabetes_df.head())"
   ]
  },
  {
   "cell_type": "code",
   "execution_count": 2,
   "id": "64da0178",
   "metadata": {},
   "outputs": [
    {
     "data": {
      "text/html": [
       "<div>\n",
       "<style scoped>\n",
       "    .dataframe tbody tr th:only-of-type {\n",
       "        vertical-align: middle;\n",
       "    }\n",
       "\n",
       "    .dataframe tbody tr th {\n",
       "        vertical-align: top;\n",
       "    }\n",
       "\n",
       "    .dataframe thead th {\n",
       "        text-align: right;\n",
       "    }\n",
       "</style>\n",
       "<table border=\"1\" class=\"dataframe\">\n",
       "  <thead>\n",
       "    <tr style=\"text-align: right;\">\n",
       "      <th></th>\n",
       "      <th>pregnancies</th>\n",
       "      <th>glucose</th>\n",
       "      <th>diastolic</th>\n",
       "      <th>triceps</th>\n",
       "      <th>insulin</th>\n",
       "      <th>bmi</th>\n",
       "      <th>dpf</th>\n",
       "      <th>age</th>\n",
       "      <th>diabetes</th>\n",
       "    </tr>\n",
       "  </thead>\n",
       "  <tbody>\n",
       "    <tr>\n",
       "      <th>0</th>\n",
       "      <td>6</td>\n",
       "      <td>148</td>\n",
       "      <td>72</td>\n",
       "      <td>35</td>\n",
       "      <td>0</td>\n",
       "      <td>33.6</td>\n",
       "      <td>0.627</td>\n",
       "      <td>50</td>\n",
       "      <td>1</td>\n",
       "    </tr>\n",
       "    <tr>\n",
       "      <th>1</th>\n",
       "      <td>1</td>\n",
       "      <td>85</td>\n",
       "      <td>66</td>\n",
       "      <td>29</td>\n",
       "      <td>0</td>\n",
       "      <td>26.6</td>\n",
       "      <td>0.351</td>\n",
       "      <td>31</td>\n",
       "      <td>0</td>\n",
       "    </tr>\n",
       "    <tr>\n",
       "      <th>2</th>\n",
       "      <td>8</td>\n",
       "      <td>183</td>\n",
       "      <td>64</td>\n",
       "      <td>0</td>\n",
       "      <td>0</td>\n",
       "      <td>23.3</td>\n",
       "      <td>0.672</td>\n",
       "      <td>32</td>\n",
       "      <td>1</td>\n",
       "    </tr>\n",
       "    <tr>\n",
       "      <th>3</th>\n",
       "      <td>1</td>\n",
       "      <td>89</td>\n",
       "      <td>66</td>\n",
       "      <td>23</td>\n",
       "      <td>94</td>\n",
       "      <td>28.1</td>\n",
       "      <td>0.167</td>\n",
       "      <td>21</td>\n",
       "      <td>0</td>\n",
       "    </tr>\n",
       "    <tr>\n",
       "      <th>4</th>\n",
       "      <td>0</td>\n",
       "      <td>137</td>\n",
       "      <td>40</td>\n",
       "      <td>35</td>\n",
       "      <td>168</td>\n",
       "      <td>43.1</td>\n",
       "      <td>2.288</td>\n",
       "      <td>33</td>\n",
       "      <td>1</td>\n",
       "    </tr>\n",
       "    <tr>\n",
       "      <th>...</th>\n",
       "      <td>...</td>\n",
       "      <td>...</td>\n",
       "      <td>...</td>\n",
       "      <td>...</td>\n",
       "      <td>...</td>\n",
       "      <td>...</td>\n",
       "      <td>...</td>\n",
       "      <td>...</td>\n",
       "      <td>...</td>\n",
       "    </tr>\n",
       "    <tr>\n",
       "      <th>763</th>\n",
       "      <td>10</td>\n",
       "      <td>101</td>\n",
       "      <td>76</td>\n",
       "      <td>48</td>\n",
       "      <td>180</td>\n",
       "      <td>32.9</td>\n",
       "      <td>0.171</td>\n",
       "      <td>63</td>\n",
       "      <td>0</td>\n",
       "    </tr>\n",
       "    <tr>\n",
       "      <th>764</th>\n",
       "      <td>2</td>\n",
       "      <td>122</td>\n",
       "      <td>70</td>\n",
       "      <td>27</td>\n",
       "      <td>0</td>\n",
       "      <td>36.8</td>\n",
       "      <td>0.340</td>\n",
       "      <td>27</td>\n",
       "      <td>0</td>\n",
       "    </tr>\n",
       "    <tr>\n",
       "      <th>765</th>\n",
       "      <td>5</td>\n",
       "      <td>121</td>\n",
       "      <td>72</td>\n",
       "      <td>23</td>\n",
       "      <td>112</td>\n",
       "      <td>26.2</td>\n",
       "      <td>0.245</td>\n",
       "      <td>30</td>\n",
       "      <td>0</td>\n",
       "    </tr>\n",
       "    <tr>\n",
       "      <th>766</th>\n",
       "      <td>1</td>\n",
       "      <td>126</td>\n",
       "      <td>60</td>\n",
       "      <td>0</td>\n",
       "      <td>0</td>\n",
       "      <td>30.1</td>\n",
       "      <td>0.349</td>\n",
       "      <td>47</td>\n",
       "      <td>1</td>\n",
       "    </tr>\n",
       "    <tr>\n",
       "      <th>767</th>\n",
       "      <td>1</td>\n",
       "      <td>93</td>\n",
       "      <td>70</td>\n",
       "      <td>31</td>\n",
       "      <td>0</td>\n",
       "      <td>30.4</td>\n",
       "      <td>0.315</td>\n",
       "      <td>23</td>\n",
       "      <td>0</td>\n",
       "    </tr>\n",
       "  </tbody>\n",
       "</table>\n",
       "<p>768 rows × 9 columns</p>\n",
       "</div>"
      ],
      "text/plain": [
       "     pregnancies  glucose  diastolic  triceps  insulin   bmi    dpf  age  \\\n",
       "0              6      148         72       35        0  33.6  0.627   50   \n",
       "1              1       85         66       29        0  26.6  0.351   31   \n",
       "2              8      183         64        0        0  23.3  0.672   32   \n",
       "3              1       89         66       23       94  28.1  0.167   21   \n",
       "4              0      137         40       35      168  43.1  2.288   33   \n",
       "..           ...      ...        ...      ...      ...   ...    ...  ...   \n",
       "763           10      101         76       48      180  32.9  0.171   63   \n",
       "764            2      122         70       27        0  36.8  0.340   27   \n",
       "765            5      121         72       23      112  26.2  0.245   30   \n",
       "766            1      126         60        0        0  30.1  0.349   47   \n",
       "767            1       93         70       31        0  30.4  0.315   23   \n",
       "\n",
       "     diabetes  \n",
       "0           1  \n",
       "1           0  \n",
       "2           1  \n",
       "3           0  \n",
       "4           1  \n",
       "..        ...  \n",
       "763         0  \n",
       "764         0  \n",
       "765         0  \n",
       "766         1  \n",
       "767         0  \n",
       "\n",
       "[768 rows x 9 columns]"
      ]
     },
     "execution_count": 2,
     "metadata": {},
     "output_type": "execute_result"
    }
   ],
   "source": [
    "diabetes_df"
   ]
  },
  {
   "cell_type": "markdown",
   "id": "1b528916",
   "metadata": {},
   "source": [
    "### Creating feature and target arrays"
   ]
  },
  {
   "cell_type": "code",
   "execution_count": 3,
   "id": "f5b5ff46",
   "metadata": {},
   "outputs": [
    {
     "name": "stdout",
     "output_type": "stream",
     "text": [
      "<class 'numpy.ndarray'> <class 'numpy.ndarray'>\n"
     ]
    }
   ],
   "source": [
    "X = diabetes_df.drop(\"glucose\", axis=1).values    # axis=1 means along \"columns\". It's a column-wise operation.\n",
    "y = diabetes_df[\"glucose\"].values\n",
    "print(type(X), type(y))"
   ]
  },
  {
   "cell_type": "markdown",
   "id": "30390c9a",
   "metadata": {},
   "source": [
    "### Making predictions from a single feature"
   ]
  },
  {
   "cell_type": "code",
   "execution_count": 4,
   "id": "e7db7df7",
   "metadata": {},
   "outputs": [
    {
     "name": "stdout",
     "output_type": "stream",
     "text": [
      "(768,) (768,)\n"
     ]
    }
   ],
   "source": [
    "X_bmi = X[:,4]\n",
    "print(y.shape, X_bmi.shape)"
   ]
  },
  {
   "cell_type": "markdown",
   "id": "867998ca",
   "metadata": {},
   "source": [
    "Our features should be 2 dimensional arrays to be accepted by scikit-learn"
   ]
  },
  {
   "cell_type": "code",
   "execution_count": 5,
   "id": "cee28b15",
   "metadata": {},
   "outputs": [],
   "source": [
    "X_bmi = X_bmi.reshape(-1,1)"
   ]
  },
  {
   "cell_type": "markdown",
   "id": "ad68514e",
   "metadata": {},
   "source": [
    "-1 in reshape function is used when you don't know or want to explicitly tell the dimension of the axis."
   ]
  },
  {
   "cell_type": "code",
   "execution_count": 6,
   "id": "7c7e29df",
   "metadata": {},
   "outputs": [
    {
     "name": "stdout",
     "output_type": "stream",
     "text": [
      "(768, 1)\n"
     ]
    }
   ],
   "source": [
    "print(X_bmi.shape)"
   ]
  },
  {
   "cell_type": "markdown",
   "id": "54313cfb",
   "metadata": {},
   "source": [
    "### Plotting glucose vs. body mass index"
   ]
  },
  {
   "cell_type": "code",
   "execution_count": 7,
   "id": "3dc71aad",
   "metadata": {},
   "outputs": [
    {
     "data": {
      "image/png": "[encoded data removed]",
      "text/plain": [
       "<Figure size 640x480 with 1 Axes>"
      ]
     },
     "metadata": {},
     "output_type": "display_data"
    }
   ],
   "source": [
    "import matplotlib.pyplot as plt\n",
    "plt.scatter(X_bmi,y)\n",
    "plt.ylabel(\"Blood Glucose (mg/dl)\")\n",
    "plt.xlabel(\"Body Mass Index\")\n",
    "plt.show()"
   ]
  },
  {
   "cell_type": "markdown",
   "id": "19439390",
   "metadata": {},
   "source": [
    "### Fitting a regression model"
   ]
  },
  {
   "cell_type": "code",
   "execution_count": 8,
   "id": "d2f88f0f",
   "metadata": {},
   "outputs": [],
   "source": [
    "from sklearn.linear_model import LinearRegression\n",
    "reg = LinearRegression()"
   ]
  },
  {
   "cell_type": "markdown",
   "id": "d4784e6f",
   "metadata": {},
   "source": [
    "Here we fit the model to all the feature observations"
   ]
  },
  {
   "cell_type": "code",
   "execution_count": 9,
   "id": "26a5f07f",
   "metadata": {
    "scrolled": true
   },
   "outputs": [
    {
     "data": {
      "image/png": "[encoded data removed]",
      "text/plain": [
       "<Figure size 640x480 with 1 Axes>"
      ]
     },
     "metadata": {},
     "output_type": "display_data"
    }
   ],
   "source": [
    "reg.fit(X_bmi,y)\n",
    "predictions = reg.predict(X_bmi)  # This gives a line of best fit for our data\n",
    "plt.scatter(X_bmi,y)\n",
    "plt.plot(X_bmi,predictions)\n",
    "plt.ylabel(\"Blood Glucose (mg/dl)\")\n",
    "plt.xlabel(\"Body Mass Index\")\n",
    "plt.show()"
   ]
  },
  {
   "cell_type": "markdown",
   "id": "f595d445",
   "metadata": {},
   "source": [
    "## Creating features"
   ]
  },
  {
   "cell_type": "markdown",
   "id": "63b05e3b",
   "metadata": {},
   "source": [
    "In this chapter, you will work with a dataset called sales_df, which contains information on advertising campaign expenditure across different media types, and the number of dollars generated in sales for the respective campaign. "
   ]
  },
  {
   "cell_type": "code",
   "execution_count": 10,
   "id": "498b41d1",
   "metadata": {},
   "outputs": [],
   "source": [
    "sales_df = pd.read_csv(\"advertising_and_sales_clean.csv\")"
   ]
  },
  {
   "cell_type": "code",
   "execution_count": 11,
   "id": "52d70272",
   "metadata": {},
   "outputs": [
    {
     "data": {
      "text/html": [
       "<div>\n",
       "<style scoped>\n",
       "    .dataframe tbody tr th:only-of-type {\n",
       "        vertical-align: middle;\n",
       "    }\n",
       "\n",
       "    .dataframe tbody tr th {\n",
       "        vertical-align: top;\n",
       "    }\n",
       "\n",
       "    .dataframe thead th {\n",
       "        text-align: right;\n",
       "    }\n",
       "</style>\n",
       "<table border=\"1\" class=\"dataframe\">\n",
       "  <thead>\n",
       "    <tr style=\"text-align: right;\">\n",
       "      <th></th>\n",
       "      <th>tv</th>\n",
       "      <th>radio</th>\n",
       "      <th>social_media</th>\n",
       "      <th>influencer</th>\n",
       "      <th>sales</th>\n",
       "    </tr>\n",
       "  </thead>\n",
       "  <tbody>\n",
       "    <tr>\n",
       "      <th>0</th>\n",
       "      <td>16000.0</td>\n",
       "      <td>6566.23</td>\n",
       "      <td>2907.98</td>\n",
       "      <td>Mega</td>\n",
       "      <td>54732.76</td>\n",
       "    </tr>\n",
       "    <tr>\n",
       "      <th>1</th>\n",
       "      <td>13000.0</td>\n",
       "      <td>9237.76</td>\n",
       "      <td>2409.57</td>\n",
       "      <td>Mega</td>\n",
       "      <td>46677.90</td>\n",
       "    </tr>\n",
       "    <tr>\n",
       "      <th>2</th>\n",
       "      <td>41000.0</td>\n",
       "      <td>15886.45</td>\n",
       "      <td>2913.41</td>\n",
       "      <td>Mega</td>\n",
       "      <td>150177.83</td>\n",
       "    </tr>\n",
       "    <tr>\n",
       "      <th>3</th>\n",
       "      <td>83000.0</td>\n",
       "      <td>30020.03</td>\n",
       "      <td>6922.30</td>\n",
       "      <td>Mega</td>\n",
       "      <td>298246.34</td>\n",
       "    </tr>\n",
       "    <tr>\n",
       "      <th>4</th>\n",
       "      <td>15000.0</td>\n",
       "      <td>8437.41</td>\n",
       "      <td>1406.00</td>\n",
       "      <td>Micro</td>\n",
       "      <td>56594.18</td>\n",
       "    </tr>\n",
       "    <tr>\n",
       "      <th>...</th>\n",
       "      <td>...</td>\n",
       "      <td>...</td>\n",
       "      <td>...</td>\n",
       "      <td>...</td>\n",
       "      <td>...</td>\n",
       "    </tr>\n",
       "    <tr>\n",
       "      <th>4541</th>\n",
       "      <td>26000.0</td>\n",
       "      <td>4472.36</td>\n",
       "      <td>717.09</td>\n",
       "      <td>Micro</td>\n",
       "      <td>94685.87</td>\n",
       "    </tr>\n",
       "    <tr>\n",
       "      <th>4542</th>\n",
       "      <td>71000.0</td>\n",
       "      <td>20610.69</td>\n",
       "      <td>6545.57</td>\n",
       "      <td>Nano</td>\n",
       "      <td>249101.92</td>\n",
       "    </tr>\n",
       "    <tr>\n",
       "      <th>4543</th>\n",
       "      <td>44000.0</td>\n",
       "      <td>19800.07</td>\n",
       "      <td>5096.19</td>\n",
       "      <td>Micro</td>\n",
       "      <td>163631.46</td>\n",
       "    </tr>\n",
       "    <tr>\n",
       "      <th>4544</th>\n",
       "      <td>71000.0</td>\n",
       "      <td>17534.64</td>\n",
       "      <td>1940.87</td>\n",
       "      <td>Macro</td>\n",
       "      <td>253610.41</td>\n",
       "    </tr>\n",
       "    <tr>\n",
       "      <th>4545</th>\n",
       "      <td>42000.0</td>\n",
       "      <td>15966.69</td>\n",
       "      <td>5046.55</td>\n",
       "      <td>Micro</td>\n",
       "      <td>148202.41</td>\n",
       "    </tr>\n",
       "  </tbody>\n",
       "</table>\n",
       "<p>4546 rows × 5 columns</p>\n",
       "</div>"
      ],
      "text/plain": [
       "           tv     radio  social_media influencer      sales\n",
       "0     16000.0   6566.23       2907.98       Mega   54732.76\n",
       "1     13000.0   9237.76       2409.57       Mega   46677.90\n",
       "2     41000.0  15886.45       2913.41       Mega  150177.83\n",
       "3     83000.0  30020.03       6922.30       Mega  298246.34\n",
       "4     15000.0   8437.41       1406.00      Micro   56594.18\n",
       "...       ...       ...           ...        ...        ...\n",
       "4541  26000.0   4472.36        717.09      Micro   94685.87\n",
       "4542  71000.0  20610.69       6545.57       Nano  249101.92\n",
       "4543  44000.0  19800.07       5096.19      Micro  163631.46\n",
       "4544  71000.0  17534.64       1940.87      Macro  253610.41\n",
       "4545  42000.0  15966.69       5046.55      Micro  148202.41\n",
       "\n",
       "[4546 rows x 5 columns]"
      ]
     },
     "execution_count": 11,
     "metadata": {},
     "output_type": "execute_result"
    }
   ],
   "source": [
    "sales_df"
   ]
  },
  {
   "cell_type": "code",
   "execution_count": 12,
   "id": "680f66e6",
   "metadata": {},
   "outputs": [],
   "source": [
    "import numpy as np"
   ]
  },
  {
   "cell_type": "code",
   "execution_count": 13,
   "id": "d27ae19f",
   "metadata": {},
   "outputs": [
    {
     "name": "stdout",
     "output_type": "stream",
     "text": [
      "(4546, 1) (4546,)\n"
     ]
    }
   ],
   "source": [
    "# Create X from the radio column's values\n",
    "X = sales_df[\"radio\"].values\n",
    "\n",
    "# Create y from the sales column's values\n",
    "y = sales_df[\"sales\"].values\n",
    "\n",
    "# Reshape X\n",
    "X = X.reshape(-1,1)\n",
    "\n",
    "# Check the shape of the features and targets\n",
    "print(X.shape, y.shape)"
   ]
  },
  {
   "cell_type": "markdown",
   "id": "65a5a03a",
   "metadata": {},
   "source": [
    "## Building a linear regression model"
   ]
  },
  {
   "cell_type": "markdown",
   "id": "efaeb692",
   "metadata": {},
   "source": [
    "Now you have created your feature and target arrays, you will train a linear regression model on all feature and target values.\n",
    "\n",
    "As the goal is to assess the relationship between the feature and target values there is no need to split the data into training and test sets."
   ]
  },
  {
   "cell_type": "code",
   "execution_count": 14,
   "id": "d6412869",
   "metadata": {},
   "outputs": [],
   "source": [
    "from sklearn.linear_model import LinearRegression"
   ]
  },
  {
   "cell_type": "code",
   "execution_count": 15,
   "id": "8bd305e7",
   "metadata": {},
   "outputs": [
    {
     "name": "stdout",
     "output_type": "stream",
     "text": [
      "[ 95491.17119147 117829.51038393 173423.38071499 291603.11444202\n",
      " 111137.28167129]\n"
     ]
    }
   ],
   "source": [
    "# Import LinearRegression\n",
    "from sklearn.linear_model import LinearRegression\n",
    "\n",
    "# Create the model\n",
    "reg = LinearRegression()\n",
    "\n",
    "# Fit the model to the data\n",
    "reg.fit(X,y)\n",
    "\n",
    "# Make predictions\n",
    "predictions = reg.predict(X)\n",
    "\n",
    "print(predictions[:5])"
   ]
  },
  {
   "cell_type": "markdown",
   "id": "50fb4bdc",
   "metadata": {},
   "source": [
    "## Visualizing a linear regression model"
   ]
  },
  {
   "cell_type": "markdown",
   "id": "4e590a9b",
   "metadata": {},
   "source": [
    "Now you have built your linear regression model and trained it using all available observations, you can visualize how well the model fits the data. This allows you to interpret the relationship between radio advertising expenditure and sales values."
   ]
  },
  {
   "cell_type": "code",
   "execution_count": 16,
   "id": "74f8f70a",
   "metadata": {},
   "outputs": [
    {
     "data": {
      "image/png": "[encoded data removed]",
      "text/plain": [
       "<Figure size 640x480 with 1 Axes>"
      ]
     },
     "metadata": {},
     "output_type": "display_data"
    }
   ],
   "source": [
    "# Create scatter plot\n",
    "plt.scatter(X, y, color=\"blue\")\n",
    "\n",
    "# Create line plot\n",
    "plt.plot(X, predictions, color=\"red\")\n",
    "plt.xlabel(\"Radio Expenditure ($)\")\n",
    "plt.ylabel(\"Sales ($)\")\n",
    "\n",
    "# Display the plot\n",
    "plt.show()"
   ]
  },
  {
   "cell_type": "markdown",
   "id": "986411cb",
   "metadata": {},
   "source": [
    "### Linear Regression using all features"
   ]
  },
  {
   "cell_type": "code",
   "execution_count": 17,
   "id": "25ed79ad",
   "metadata": {},
   "outputs": [],
   "source": [
    "from sklearn.model_selection import train_test_split\n",
    "from sklearn.linear_model import LinearRegression\n",
    "X_train, X_test, y_train, y_test = train_test_split(X, y, test_size = 0.3, random_state = 42)\n",
    "reg_all = LinearRegression()\n",
    "reg_all.fit(X_train, y_train)\n",
    "y_pred = reg_all.predict(X_test)"
   ]
  },
  {
   "cell_type": "markdown",
   "id": "2d3381b6",
   "metadata": {},
   "source": [
    "### R-squared in scikit-learn"
   ]
  },
  {
   "cell_type": "code",
   "execution_count": 18,
   "id": "64645cb0",
   "metadata": {},
   "outputs": [
    {
     "data": {
      "text/plain": [
       "0.7609020445216754"
      ]
     },
     "execution_count": 18,
     "metadata": {},
     "output_type": "execute_result"
    }
   ],
   "source": [
    "reg_all.score(X_test, y_test)"
   ]
  },
  {
   "cell_type": "markdown",
   "id": "4fa408b0",
   "metadata": {},
   "source": [
    "### RMSE in scikit_learn"
   ]
  },
  {
   "cell_type": "code",
   "execution_count": 19,
   "id": "a2361cee",
   "metadata": {},
   "outputs": [
    {
     "data": {
      "text/plain": [
       "45879.42086239429"
      ]
     },
     "execution_count": 19,
     "metadata": {},
     "output_type": "execute_result"
    }
   ],
   "source": [
    "from sklearn.metrics import mean_squared_error\n",
    "mean_squared_error(y_test, y_pred, squared=False)"
   ]
  },
  {
   "cell_type": "markdown",
   "id": "0e4f3ef1",
   "metadata": {},
   "source": [
    "This returns the square root of the MSE"
   ]
  },
  {
   "cell_type": "markdown",
   "id": "f9f09703",
   "metadata": {},
   "source": [
    "The model has an average error of Sales of around 45879 dollars"
   ]
  },
  {
   "cell_type": "markdown",
   "id": "ec169e21",
   "metadata": {},
   "source": [
    "## Fit and predict for Regression"
   ]
  },
  {
   "cell_type": "markdown",
   "id": "a35b66e7",
   "metadata": {},
   "source": [
    "Now you have seen how linear regression works, your task is to create a multiple linear regression model using all of the features in the sales_df dataset."
   ]
  },
  {
   "cell_type": "markdown",
   "id": "ac120f79",
   "metadata": {},
   "source": [
    "Create X, an array containing values of all features in sales_df, and y, containing all values from the \"sales\" column."
   ]
  },
  {
   "cell_type": "code",
   "execution_count": 20,
   "id": "d67366d2",
   "metadata": {},
   "outputs": [],
   "source": [
    "# Create X and y arrays\n",
    "X = sales_df.drop([\"sales\", \"influencer\"],axis=1).values\n",
    "y = sales_df[\"sales\"].values\n",
    "\n",
    "X_train, X_test, y_train, y_test = train_test_split(X, y, test_size=0.3, random_state=42)"
   ]
  },
  {
   "cell_type": "code",
   "execution_count": 21,
   "id": "e814c033",
   "metadata": {},
   "outputs": [
    {
     "data": {
      "text/plain": [
       "array([[16000.  ,  6566.23,  2907.98],\n",
       "       [13000.  ,  9237.76,  2409.57],\n",
       "       [41000.  , 15886.45,  2913.41],\n",
       "       ...,\n",
       "       [44000.  , 19800.07,  5096.19],\n",
       "       [71000.  , 17534.64,  1940.87],\n",
       "       [42000.  , 15966.69,  5046.55]])"
      ]
     },
     "execution_count": 21,
     "metadata": {},
     "output_type": "execute_result"
    }
   ],
   "source": [
    "X"
   ]
  },
  {
   "cell_type": "code",
   "execution_count": 22,
   "id": "07a09bac",
   "metadata": {},
   "outputs": [
    {
     "data": {
      "text/html": [
       "<div>\n",
       "<style scoped>\n",
       "    .dataframe tbody tr th:only-of-type {\n",
       "        vertical-align: middle;\n",
       "    }\n",
       "\n",
       "    .dataframe tbody tr th {\n",
       "        vertical-align: top;\n",
       "    }\n",
       "\n",
       "    .dataframe thead th {\n",
       "        text-align: right;\n",
       "    }\n",
       "</style>\n",
       "<table border=\"1\" class=\"dataframe\">\n",
       "  <thead>\n",
       "    <tr style=\"text-align: right;\">\n",
       "      <th></th>\n",
       "      <th>tv</th>\n",
       "      <th>radio</th>\n",
       "      <th>social_media</th>\n",
       "      <th>influencer</th>\n",
       "      <th>sales</th>\n",
       "    </tr>\n",
       "  </thead>\n",
       "  <tbody>\n",
       "    <tr>\n",
       "      <th>0</th>\n",
       "      <td>16000.0</td>\n",
       "      <td>6566.23</td>\n",
       "      <td>2907.98</td>\n",
       "      <td>Mega</td>\n",
       "      <td>54732.76</td>\n",
       "    </tr>\n",
       "    <tr>\n",
       "      <th>1</th>\n",
       "      <td>13000.0</td>\n",
       "      <td>9237.76</td>\n",
       "      <td>2409.57</td>\n",
       "      <td>Mega</td>\n",
       "      <td>46677.90</td>\n",
       "    </tr>\n",
       "    <tr>\n",
       "      <th>2</th>\n",
       "      <td>41000.0</td>\n",
       "      <td>15886.45</td>\n",
       "      <td>2913.41</td>\n",
       "      <td>Mega</td>\n",
       "      <td>150177.83</td>\n",
       "    </tr>\n",
       "    <tr>\n",
       "      <th>3</th>\n",
       "      <td>83000.0</td>\n",
       "      <td>30020.03</td>\n",
       "      <td>6922.30</td>\n",
       "      <td>Mega</td>\n",
       "      <td>298246.34</td>\n",
       "    </tr>\n",
       "    <tr>\n",
       "      <th>4</th>\n",
       "      <td>15000.0</td>\n",
       "      <td>8437.41</td>\n",
       "      <td>1406.00</td>\n",
       "      <td>Micro</td>\n",
       "      <td>56594.18</td>\n",
       "    </tr>\n",
       "    <tr>\n",
       "      <th>...</th>\n",
       "      <td>...</td>\n",
       "      <td>...</td>\n",
       "      <td>...</td>\n",
       "      <td>...</td>\n",
       "      <td>...</td>\n",
       "    </tr>\n",
       "    <tr>\n",
       "      <th>4541</th>\n",
       "      <td>26000.0</td>\n",
       "      <td>4472.36</td>\n",
       "      <td>717.09</td>\n",
       "      <td>Micro</td>\n",
       "      <td>94685.87</td>\n",
       "    </tr>\n",
       "    <tr>\n",
       "      <th>4542</th>\n",
       "      <td>71000.0</td>\n",
       "      <td>20610.69</td>\n",
       "      <td>6545.57</td>\n",
       "      <td>Nano</td>\n",
       "      <td>249101.92</td>\n",
       "    </tr>\n",
       "    <tr>\n",
       "      <th>4543</th>\n",
       "      <td>44000.0</td>\n",
       "      <td>19800.07</td>\n",
       "      <td>5096.19</td>\n",
       "      <td>Micro</td>\n",
       "      <td>163631.46</td>\n",
       "    </tr>\n",
       "    <tr>\n",
       "      <th>4544</th>\n",
       "      <td>71000.0</td>\n",
       "      <td>17534.64</td>\n",
       "      <td>1940.87</td>\n",
       "      <td>Macro</td>\n",
       "      <td>253610.41</td>\n",
       "    </tr>\n",
       "    <tr>\n",
       "      <th>4545</th>\n",
       "      <td>42000.0</td>\n",
       "      <td>15966.69</td>\n",
       "      <td>5046.55</td>\n",
       "      <td>Micro</td>\n",
       "      <td>148202.41</td>\n",
       "    </tr>\n",
       "  </tbody>\n",
       "</table>\n",
       "<p>4546 rows × 5 columns</p>\n",
       "</div>"
      ],
      "text/plain": [
       "           tv     radio  social_media influencer      sales\n",
       "0     16000.0   6566.23       2907.98       Mega   54732.76\n",
       "1     13000.0   9237.76       2409.57       Mega   46677.90\n",
       "2     41000.0  15886.45       2913.41       Mega  150177.83\n",
       "3     83000.0  30020.03       6922.30       Mega  298246.34\n",
       "4     15000.0   8437.41       1406.00      Micro   56594.18\n",
       "...       ...       ...           ...        ...        ...\n",
       "4541  26000.0   4472.36        717.09      Micro   94685.87\n",
       "4542  71000.0  20610.69       6545.57       Nano  249101.92\n",
       "4543  44000.0  19800.07       5096.19      Micro  163631.46\n",
       "4544  71000.0  17534.64       1940.87      Macro  253610.41\n",
       "4545  42000.0  15966.69       5046.55      Micro  148202.41\n",
       "\n",
       "[4546 rows x 5 columns]"
      ]
     },
     "execution_count": 22,
     "metadata": {},
     "output_type": "execute_result"
    }
   ],
   "source": [
    "sales_df"
   ]
  },
  {
   "cell_type": "code",
   "execution_count": 23,
   "id": "012db4b4",
   "metadata": {},
   "outputs": [
    {
     "name": "stdout",
     "output_type": "stream",
     "text": [
      "Predictions: [53176.66154234 70996.19873235], Actual Values: [55261.28 67574.9 ]\n"
     ]
    }
   ],
   "source": [
    "# Instantiate the model\n",
    "reg = LinearRegression()\n",
    "\n",
    "# Fit the model to the data\n",
    "reg.fit(X_train, y_train)\n",
    "\n",
    "# Make predictions\n",
    "y_pred = reg.predict(X_test)\n",
    "print(\"Predictions: {}, Actual Values: {}\".format(y_pred[:2], y_test[:2]))"
   ]
  },
  {
   "cell_type": "markdown",
   "id": "f18fedce",
   "metadata": {},
   "source": [
    "## Regression Performance"
   ]
  },
  {
   "cell_type": "markdown",
   "id": "666180a9",
   "metadata": {},
   "source": [
    "Now you have fit a model, reg, using all features from sales_df, and made predictions of sales values, you can evaluate performance using some common regression metrics.\n",
    "\n",
    "Your task is to find out how well the features can explain the variance in the target values, along with assessing the model's ability to make predictions on unseen data."
   ]
  },
  {
   "cell_type": "code",
   "execution_count": 24,
   "id": "ea82974a",
   "metadata": {},
   "outputs": [
    {
     "name": "stdout",
     "output_type": "stream",
     "text": [
      "R^2: 0.9990152104759368\n",
      "RMSE: 2944.4331996000956\n"
     ]
    }
   ],
   "source": [
    "# Import mean_squared_error\n",
    "from sklearn.metrics import mean_squared_error\n",
    "\n",
    "# Compute R-squared\n",
    "r_squared = reg.score(X_test, y_test)\n",
    "\n",
    "# Compute RMSE\n",
    "rmse = mean_squared_error(y_test, y_pred, squared=False)\n",
    "\n",
    "# Print the metrics\n",
    "print(\"R^2: {}\".format(r_squared))\n",
    "print(\"RMSE: {}\".format(rmse))"
   ]
  },
  {
   "cell_type": "markdown",
   "id": "675b502e",
   "metadata": {},
   "source": [
    "Wow, the features explain 99.9% of the variance in sales values! Looks like this company's advertising strategy is working well!"
   ]
  },
  {
   "cell_type": "markdown",
   "id": "dad856d2",
   "metadata": {},
   "source": [
    "## Cross-validation for R-squared"
   ]
  },
  {
   "cell_type": "markdown",
   "id": "de6c88bb",
   "metadata": {},
   "source": [
    "Cross-validation is a vital approach to evaluating a model. It maximizes the amount of data that is available to the model, as the model is not only trained but also tested on all of the available data.\n",
    "\n",
    "In this exercise, you will build a linear regression model, then use 6-fold cross-validation to assess its accuracy for predicting sales using social media advertising expenditure. You will display the individual score for each of the six-folds."
   ]
  },
  {
   "cell_type": "code",
   "execution_count": 25,
   "id": "34621828",
   "metadata": {},
   "outputs": [
    {
     "name": "stdout",
     "output_type": "stream",
     "text": [
      "[0.99894062 0.99909245 0.9990103  0.99896344 0.99889153 0.99903953]\n"
     ]
    }
   ],
   "source": [
    "# Import the necessary modules\n",
    "from sklearn.model_selection import cross_val_score, KFold\n",
    "\n",
    "# Create a KFold object\n",
    "kf = KFold(n_splits=6, shuffle=True, random_state=5)\n",
    "\n",
    "reg = LinearRegression()\n",
    "\n",
    "# Compute 6-fold cross-validation scores\n",
    "cv_scores = cross_val_score(reg, X, y, cv=kf)\n",
    "\n",
    "# Print scores\n",
    "print(cv_scores)"
   ]
  },
  {
   "cell_type": "markdown",
   "id": "648289f9",
   "metadata": {},
   "source": [
    "Notice how R-squared for each fold ranged between 0.74 and 0.77? By using cross-validation, we can see how performance varies depending on how the data is split!"
   ]
  },
  {
   "cell_type": "markdown",
   "id": "ce2e250a",
   "metadata": {},
   "source": [
    "## Analyzing cross-validation metrics\n"
   ]
  },
  {
   "cell_type": "markdown",
   "id": "d09fdf4a",
   "metadata": {},
   "source": [
    "Now you have performed cross-validation, it's time to analyze the results.\n",
    "\n",
    "You will display the mean, standard deviation, and 95% confidence interval for cv_results."
   ]
  },
  {
   "cell_type": "code",
   "execution_count": 26,
   "id": "e3104f84",
   "metadata": {},
   "outputs": [
    {
     "name": "stdout",
     "output_type": "stream",
     "text": [
      "0.9989896443678249\n",
      "6.608118371529651e-05\n",
      "[0.99889767 0.99908583]\n"
     ]
    }
   ],
   "source": [
    "# Print the mean\n",
    "print(np.mean(cv_scores))\n",
    "\n",
    "# Print the standard deviation\n",
    "print(np.std(cv_scores))\n",
    "\n",
    "# Print the 95% confidence interval\n",
    "print(np.quantile(cv_scores, [0.025, 0.975]))"
   ]
  },
  {
   "cell_type": "markdown",
   "id": "47bf7c1d",
   "metadata": {},
   "source": [
    "An average score of 0.75 with a low standard deviation is pretty good for a model out of the box"
   ]
  },
  {
   "cell_type": "markdown",
   "id": "de992ed7",
   "metadata": {},
   "source": [
    "## Regularized regression: Ridge\n"
   ]
  },
  {
   "cell_type": "markdown",
   "id": "eac9cd1b",
   "metadata": {},
   "source": [
    "Ridge regression performs regularization by computing the squared values of the model parameters multiplied by alpha and adding them to the loss function.\n",
    "\n",
    "In this exercise, you will fit ridge regression models over a range of different alpha values, and print their  scores. You will use all of the features in the sales_df dataset to predict \"sales\".\n",
    "\n",
    "A variable called alphas has been provided as a list containing different alpha values, which you will loop through to generate scores."
   ]
  },
  {
   "cell_type": "code",
   "execution_count": 27,
   "id": "062aa138",
   "metadata": {},
   "outputs": [
    {
     "name": "stdout",
     "output_type": "stream",
     "text": [
      "[0.9990152104759369, 0.9990152104759373, 0.9990152104759419, 0.9990152104759871, 0.9990152104764387, 0.9990152104809561]\n"
     ]
    }
   ],
   "source": [
    "# Import Ridge\n",
    "from sklearn.linear_model import Ridge\n",
    "alphas = [0.1, 1.0, 10.0, 100.0, 1000.0, 10000.0]\n",
    "ridge_scores = []\n",
    "for alpha in alphas:\n",
    "  \n",
    "  # Create a Ridge regression model\n",
    "  ridge = Ridge(alpha=alpha)\n",
    "  \n",
    "  # Fit the data\n",
    "  ridge.fit(X_train,y_train)\n",
    "  \n",
    "  # Obtain R-squared\n",
    "  score = ridge.score(X_test,y_test)\n",
    "  ridge_scores.append(score)\n",
    "print(ridge_scores)"
   ]
  },
  {
   "cell_type": "markdown",
   "id": "396e75df",
   "metadata": {},
   "source": [
    " The scores don't appear to change much as alpha increases, which is indicative of how well the features explain the variance in the target—even by heavily penalizing large coefficients, underfitting does not occur!"
   ]
  },
  {
   "cell_type": "markdown",
   "id": "d370b295",
   "metadata": {},
   "source": [
    "## Lasso regression for feature importance\n"
   ]
  },
  {
   "cell_type": "markdown",
   "id": "b066c98e",
   "metadata": {},
   "source": [
    "In this exercise, you will fit a lasso regression model to the sales_df data and plot the model's coefficients."
   ]
  },
  {
   "cell_type": "code",
   "execution_count": 28,
   "id": "32101891",
   "metadata": {},
   "outputs": [],
   "source": [
    "sales_columns = sales_df.drop([\"sales\", \"influencer\"],axis=1).columns\n"
   ]
  },
  {
   "cell_type": "code",
   "execution_count": 29,
   "id": "8a8ab7d4",
   "metadata": {},
   "outputs": [
    {
     "name": "stdout",
     "output_type": "stream",
     "text": [
      "[ 3.56256962 -0.00397035  0.00496385]\n"
     ]
    },
    {
     "data": {
      "image/png": "[encoded data removed]",
      "text/plain": [
       "<Figure size 640x480 with 1 Axes>"
      ]
     },
     "metadata": {},
     "output_type": "display_data"
    }
   ],
   "source": [
    "# Import Lasso\n",
    "from sklearn.linear_model import Lasso\n",
    "\n",
    "# Instantiate a lasso regression model\n",
    "lasso = Lasso(alpha = 0.3)\n",
    "\n",
    "# Fit the model to the data\n",
    "lasso.fit(X,y)\n",
    "\n",
    "# Compute and print the coefficients\n",
    "lasso_coef = lasso.fit(X,y).coef_\n",
    "print(lasso_coef)\n",
    "plt.bar(sales_columns, lasso_coef)\n",
    "plt.xticks(rotation=45)\n",
    "plt.show()"
   ]
  },
  {
   "cell_type": "markdown",
   "id": "e595ef40",
   "metadata": {},
   "source": [
    "See how the figure makes it clear that expenditure on TV advertising is the most important feature in the dataset to predict sales values! In the next chapter, we will learn how to further assess and improve our model's performance!"
   ]
  },
  {
   "cell_type": "code",
   "execution_count": null,
   "id": "fe153347",
   "metadata": {},
   "outputs": [],
   "source": []
  }
 ],
 "metadata": {
  "kernelspec": {
   "display_name": "Python 3 (ipykernel)",
   "language": "python",
   "name": "python3"
  },
  "language_info": {
   "codemirror_mode": {
    "name": "ipython",
    "version": 3
   },
   "file_extension": ".py",
   "mimetype": "text/x-python",
   "name": "python",
   "nbconvert_exporter": "python",
   "pygments_lexer": "ipython3",
   "version": "3.9.13"
  }
 },
 "nbformat": 4,
 "nbformat_minor": 5
}
